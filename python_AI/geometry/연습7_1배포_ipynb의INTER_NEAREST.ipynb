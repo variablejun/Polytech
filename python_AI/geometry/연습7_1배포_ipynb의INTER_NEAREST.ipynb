{
  "cells": [
    {
      "cell_type": "code",
      "execution_count": null,
      "metadata": {
        "colab": {
          "base_uri": "https://localhost:8080/",
          "height": 801
        },
        "id": "6DQm1NRAF6Ud",
        "outputId": "39fc4b4e-2074-4924-8097-15cb9e368e28"
      },
      "outputs": [
        {
          "name": "stdout",
          "output_type": "stream",
          "text": [
            "Drive already mounted at /content/gdrive; to attempt to forcibly remount, call drive.mount(\"/content/gdrive\", force_remount=True).\n",
            "original image (79, 71)\n"
          ]
        },
        {
          "data": {
            "image/png": "[encoded data removed]",
            "text/plain": [
              "<PIL.Image.Image image mode=RGB size=71x79 at 0x7FEFB9752F90>"
            ]
          },
          "metadata": {},
          "output_type": "display_data"
        },
        {
          "name": "stdout",
          "output_type": "stream",
          "text": [
            "Nearest Neighbor Interpolation (316, 284)\n"
          ]
        },
        {
          "data": {
            "image/png": "[encoded data removed]",
            "text/plain": [
              "<PIL.Image.Image image mode=RGB size=284x316 at 0x7FEFB9752310>"
            ]
          },
          "metadata": {},
          "output_type": "display_data"
        },
        {
          "name": "stdout",
          "output_type": "stream",
          "text": [
            "INTER_LINEAR  Interpolation (316, 284)\n"
          ]
        },
        {
          "data": {
            "image/png": "[encoded data removed]",
            "text/plain": [
              "<PIL.Image.Image image mode=RGB size=284x316 at 0x7FEFB9752550>"
            ]
          },
          "metadata": {},
          "output_type": "display_data"
        }
      ],
      "source": [
        "from google.colab.patches import cv2_imshow\n",
        "import numpy as np\n",
        "import cv2\n",
        "import matplotlib.pyplot as plt\n",
        "from google.colab import drive\n",
        "'''\n",
        "입력픽셀과 결과픽셀 행렬연산을 통해 매핑, 입력영상 좌표의픽셀값을 구해진 결과영상 좌표에 픽셀값으로 복사\n",
        "전방향 매핑\n",
        "입력영상의 좌표에 따라 결과 영상좌표 결정\n",
        "매핑결과좌표가 결과영상엔 존재하지 않는 홀 문제 발생\n",
        "같은좌표로 매핑되는 오버랩 문제 발생\n",
        "\n",
        "역방향 매핑\n",
        "결과 영상의 각 픽셀 좌표에 대응되는 입력 영상좌표를 역으로 구함으로써 결과영상 생성\n",
        "\n",
        "정방향, 역방향 문제 보완하는 보간법(interpolation) 사용\n",
        "\n",
        "최근접 이웃 픽셀 보간법(nearest)\n",
        "대응되지 않는 결과영상 픽셀(정수로 나누어 떨어지지 않는)에 대해 가장 가까운\n",
        "입력 영상의 픽셀값으로 복사해 할당\n",
        "처리속도 빠름, 계단현상 발생\n",
        "\n",
        "양선형 보간법(bilinear)\n",
        "가까운 4개의 이웃픽셀의 가중치 합을 계산, 최근접에 비해 많은 계산량 요구, 결과 자연스러움\n",
        "'''\n",
        "drive.mount('/content/gdrive') \n",
        "#영상 불러오기\n",
        "#img = cv2.imread('/content/gdrive/My Drive/Image_Processing/flower.bmp')\n",
        "#img = cv2.imread('/content/gdrive/My Drive/Image_Processing/lena.jpg')\n",
        "img = cv2.imread('/content/gdrive/My Drive/Image_Processing/small-a.bmp')\n",
        "height, width = img.shape[:2]\n",
        "#output_img = cv2.resize(img,(2*width, 2*height), interpolation = cv2.INTER_NEAREST)\n",
        "output_img1 = cv2.resize(img,None,fx=4,fy=4, interpolation = cv2.INTER_NEAREST)\n",
        "output_img2 = cv2.resize(img,None,fx=4, fy=4, interpolation = cv2.INTER_LINEAR)\n",
        "'''\n",
        "resize\n",
        "입력영상, 출력영상, fx : 가로축 확대비율, fy : 세로축 확대비율 \n",
        "interpolation = cv2.INTER_NEAREST 최근접 이웃 픽셀 보간법\n",
        "interpolation = cv2.INTER_LINEAR 양선형 보간법\n",
        "\n",
        "'''\n",
        "#그림을 화면에 출력 (원래 영상 크기대로 출력)\n",
        "print(\"original image\",img.shape[:2] )\n",
        "cv2_imshow(img)\n",
        "\n",
        "print(\"Nearest Neighbor Interpolation\",output_img1.shape[:2])\n",
        "cv2_imshow(output_img1)\n",
        "\n",
        "print(\"INTER_LINEAR  Interpolation\",output_img2.shape[:2])\n",
        "cv2_imshow(output_img2)"
      ]
    }
  ],
  "metadata": {
    "colab": {
      "collapsed_sections": [],
      "name": "연습7-1배포.ipynb의INTER_NEAREST",
      "provenance": []
    },
    "kernelspec": {
      "display_name": "Python 3",
      "name": "python3"
    }
  },
  "nbformat": 4,
  "nbformat_minor": 0
}
