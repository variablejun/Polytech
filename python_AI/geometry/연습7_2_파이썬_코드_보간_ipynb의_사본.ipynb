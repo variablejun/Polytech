{
  "nbformat": 4,
  "nbformat_minor": 0,
  "metadata": {
    "colab": {
      "name": "연습7-2 파이썬 코드 보간.ipynb의 사본",
      "provenance": [],
      "collapsed_sections": []
    },
    "kernelspec": {
      "name": "python3",
      "display_name": "Python 3"
    }
  },
  "cells": [
    {
      "cell_type": "code",
      "source": [
        "from google.colab.patches import cv2_imshow\n",
        "import numpy as np\n",
        "import cv2\n",
        "import matplotlib.pyplot as plt\n",
        "from google.colab import drive\n",
        "from math import floor\n",
        "from skimage.io import imread\n",
        "\n",
        "\n",
        "#----------------------------------\n",
        "# Euclidian Distance\n",
        "#==================================\n",
        "def euclidian_dist(a,b):\n",
        "    '''\n",
        "    Euclidian distance between 2 points a(x_a, y_a) and b(x_b, y_b)\n",
        "    Distance = Square Root ( (x_a - x_b)^2 +  (y_a - y_b)^2 )\n",
        "    '''\n",
        "    return np.sqrt(((a[0]-b[0])**2)+((a[1]-b[1])**2))\n",
        "\n",
        "#----------------------------------\n",
        "# Nearest Neighbour\n",
        "#==================================\n",
        "def near_neighbour(X,P):\n",
        "    '''\n",
        "    The nearest neighbour of point X(x,y) to the centroid P(x_p, y_p)\n",
        "    The Neighbourhood is defined by the Upper-Left corner of the point X, which means 3 neighbours and the point X. \n",
        "    '''\n",
        "    i,j = X[0],X[1]\n",
        "    A = [[i,j],[i,j+1],[i+1,j],[i+1,j+1]]\n",
        "    dist = [euclidian_dist(A[0],P),euclidian_dist(A[1],P),euclidian_dist(A[2],P),euclidian_dist(A[3],P)]\n",
        "    minpos = dist.index(min(dist))\n",
        "    return A[minpos]        \n",
        "\n",
        "#----------------------------------\n",
        "# Nearest Neighbour Interpolation\n",
        "#==================================\n",
        "def NN_interpolation(im,scale_factor):\n",
        "    '''\n",
        "    Interpolation of the image im with scale factor scale_factor, using Nearest Neighbour.\n",
        "    '''\n",
        "    row, col = im.shape[0], im.shape[1]\n",
        "    n_row,n_col = int(scale_factor * row),int(scale_factor * col)\n",
        "    # fill in  img\n",
        "    zoom = np.arange(n_row*n_col).reshape(n_row,n_col)\n",
        "    print(\"zoom shape is: \",zoom.shape,\"image shape is: \", im.shape,'\\n')\n",
        "    for i in range(n_row):\n",
        "        for j in range(n_col):\n",
        "            P = [floor(float(i)/scale_factor),floor(float(j)/scale_factor)]\n",
        "            X = [int(i) for i in P]\n",
        "            zoom[i][j] = im[near_neighbour(X,P)[0]][near_neighbour(X,P)[1]]\n",
        "    return zoom\n",
        "\n",
        "\n",
        "\n",
        "drive.mount('/content/gdrive') \n",
        "#영상 불러오기\n",
        "#im = cv2.imread('/content/gdrive/My Drive/Image_Processing/small-a.bmp')\n",
        "img = imread('/content/gdrive/My Drive/Image_Processing/small-a.bmp')[...,0]\n",
        "\n",
        "out = NN_interpolation(img,4.0)\n",
        "\n",
        "print(\"original image\",img.shape[:2] )\n",
        "cv2_imshow(img)\n",
        "print(\"Nearest Neighbor Interpolation\",out.shape[:2])\n",
        "cv2_imshow(out)"
      ],
      "metadata": {
        "colab": {
          "base_uri": "https://localhost:8080/",
          "height": 504
        },
        "id": "Ah4THMI73YZM",
        "outputId": "58019553-6d7c-4461-e893-14acb2ec0eef"
      },
      "execution_count": null,
      "outputs": [
        {
          "output_type": "stream",
          "name": "stdout",
          "text": [
            "Drive already mounted at /content/gdrive; to attempt to forcibly remount, call drive.mount(\"/content/gdrive\", force_remount=True).\n",
            "zoom shape is:  (316, 284) image shape is:  (79, 71) \n",
            "\n",
            "original image (79, 71)\n"
          ]
        },
        {
          "output_type": "display_data",
          "data": {
            "text/plain": [
              "<PIL.Image.Image image mode=L size=71x79 at 0x7F58BBED9E90>"
            ],
            "image/png": "[encoded data removed]"
          },
          "metadata": {}
        },
        {
          "output_type": "stream",
          "name": "stdout",
          "text": [
            "Nearest Neighbor Interpolation (316, 284)\n"
          ]
        },
        {
          "output_type": "display_data",
          "data": {
            "text/plain": [
              "<PIL.Image.Image image mode=L size=284x316 at 0x7F58BBEBECD0>"
            ],
            "image/png": "[encoded data removed]"
          },
          "metadata": {}
        }
      ]
    },
    {
      "cell_type": "code",
      "source": [
        "from google.colab.patches import cv2_imshow\n",
        "import numpy as np\n",
        "import cv2\n",
        "import matplotlib.pyplot as plt\n",
        "from google.colab import drive\n",
        "\n",
        "def interpolate_bilinear(array_in, width_in, height_in, array_out, width_out, height_out):\n",
        "    for i in range(height_out):\n",
        "        for j in range(width_out):\n",
        "            # Relative coordinates of the pixel in output space\n",
        "            x_out = j / width_out\n",
        "            y_out = i / height_out\n",
        "\n",
        "            # Corresponding absolute coordinates of the pixel in input space\n",
        "            x_in = (x_out * width_in)\n",
        "            y_in = (y_out * height_in)\n",
        "\n",
        "            # Nearest neighbours coordinates in input space\n",
        "            x_prev = int(np.floor(x_in))\n",
        "            x_next = x_prev + 1\n",
        "            y_prev = int(np.floor(y_in))\n",
        "            y_next = y_prev + 1\n",
        "\n",
        "            # Sanitize bounds - no need to check for < 0\n",
        "            x_prev = min(x_prev, width_in - 1)\n",
        "            x_next = min(x_next, width_in - 1)\n",
        "            y_prev = min(y_prev, height_in - 1)\n",
        "            y_next = min(y_next, height_in - 1)\n",
        "            \n",
        "            # Distances between neighbour nodes in input space\n",
        "            Dy_next = y_next - y_in;\n",
        "            Dy_prev = 1. - Dy_next; # because next - prev = 1\n",
        "            Dx_next = x_next - x_in;\n",
        "            Dx_prev = 1. - Dx_next; # because next - prev = 1\n",
        "            \n",
        "            # Interpolate over 3 RGB layers\n",
        "            for c in range(3):\n",
        "                array_out[i][j][c] = Dy_prev * (array_in[y_next][x_prev][c] * Dx_next + array_in[y_next][x_next][c] * Dx_prev) \\\n",
        "                + Dy_next * (array_in[y_prev][x_prev][c] * Dx_next + array_in[y_prev][x_next][c] * Dx_prev)\n",
        "                \n",
        "    return array_out\n",
        "\n",
        "drive.mount('/content/gdrive') \n",
        "#영상 불러오기\n",
        "im = cv2.imread('/content/gdrive/My Drive/Image_Processing/small-a.bmp')\n",
        "\n",
        "height, width = im.shape[:2]\n",
        "width_2 = width * 4\n",
        "height_2 = height * 4\n",
        "\n",
        "# Interpolate in float64\n",
        "out = np.zeros((height_2, width_2, 3))\n",
        "out = interpolate_bilinear(im, width, height, out, width_2, height_2)\n",
        "\n",
        "print(\"org\",im.shape[:2])\n",
        "cv2_imshow(im)\n",
        "\n",
        "print(\"Bilinear Interpolation\",out.shape[:2])\n",
        "cv2_imshow(out)\n",
        "\n"
      ],
      "metadata": {
        "colab": {
          "base_uri": "https://localhost:8080/",
          "height": 467
        },
        "id": "hzSqkL_SyKt6",
        "outputId": "bd59b0bc-3be9-44d0-e01d-259a401ec090"
      },
      "execution_count": null,
      "outputs": [
        {
          "output_type": "stream",
          "name": "stdout",
          "text": [
            "Drive already mounted at /content/gdrive; to attempt to forcibly remount, call drive.mount(\"/content/gdrive\", force_remount=True).\n",
            "org (79, 71)\n"
          ]
        },
        {
          "output_type": "display_data",
          "data": {
            "text/plain": [
              "<PIL.Image.Image image mode=RGB size=71x79 at 0x7F01669B19D0>"
            ],
            "image/png": "[encoded data removed]"
          },
          "metadata": {}
        },
        {
          "output_type": "stream",
          "name": "stdout",
          "text": [
            "Bilinear Interpolation (316, 284)\n"
          ]
        },
        {
          "output_type": "display_data",
          "data": {
            "text/plain": [
              "<PIL.Image.Image image mode=RGB size=284x316 at 0x7F0157382D90>"
            ],
            "image/png": "[encoded data removed]"
          },
          "metadata": {}
        }
      ]
    }
  ]
}